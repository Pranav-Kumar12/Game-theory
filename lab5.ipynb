{
 "cells": [
  {
   "cell_type": "code",
   "execution_count": 4,
   "metadata": {},
   "outputs": [
    {
     "name": "stdout",
     "output_type": "stream",
     "text": [
      "Nash Equilibrium:\n",
      "Incubator(Senator) mixed strategy: [0.75 0.25]\n",
      "Challenger mixed strategy: [0.75 0.25]\n"
     ]
    }
   ],
   "source": [
    "import numpy as np\n",
    "import nashpy as nash\n",
    "\n",
    "payoff_matrix_incubator = np.array([[5, -5], [0, 10]])\n",
    "payoff_matrix_challenger = np.array([[0,5], [10,-5]])\n",
    "\n",
    "game = nash.Game(payoff_matrix_incubator, payoff_matrix_challenger)\n",
    "\n",
    "equilibria = list(game.support_enumeration())\n",
    "\n",
    "for eq in equilibria:\n",
    "    print(\"Nash Equilibrium:\")\n",
    "    print(f\"Incubator(Senator) mixed strategy: {eq[0]}\")\n",
    "    print(f\"Challenger mixed strategy: {eq[1]}\")\n",
    "\n",
    "    payoff_a = np.dot(eq[0], np.dot(payoff_matrix_incubator, eq[1]))\n",
    "    payoff_b = np.dot(eq[0], np.dot(payoff_matrix_challenger, eq[1]))\n",
    "\n",
    "    # print(f\"Payoff for Incubator(Senator): {payoff_matrix_incubator}\")\n",
    "    # print(f\"Payoff for Challenger: {payoff_matrix_challenger}\")\n"
   ]
  },
  {
   "cell_type": "code",
   "execution_count": null,
   "metadata": {},
   "outputs": [],
   "source": []
  }
 ],
 "metadata": {
  "kernelspec": {
   "display_name": "Python 3",
   "language": "python",
   "name": "python3"
  },
  "language_info": {
   "codemirror_mode": {
    "name": "ipython",
    "version": 3
   },
   "file_extension": ".py",
   "mimetype": "text/x-python",
   "name": "python",
   "nbconvert_exporter": "python",
   "pygments_lexer": "ipython3",
   "version": "3.11.4"
  }
 },
 "nbformat": 4,
 "nbformat_minor": 2
}
