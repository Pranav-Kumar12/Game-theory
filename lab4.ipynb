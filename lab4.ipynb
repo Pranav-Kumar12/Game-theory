{
 "cells": [
  {
   "cell_type": "code",
   "execution_count": 1,
   "metadata": {},
   "outputs": [
    {
     "name": "stdout",
     "output_type": "stream",
     "text": [
      "Nash Equilibrium:\n",
      "Player 1's mixed strategy: [0.5 0.5]\n",
      "Player 2's mixed strategy: [0.5 0.5]\n",
      "Payoff for Player 1: 0.0\n",
      "Payoff for Player 2: 0.0\n"
     ]
    }
   ],
   "source": [
    "import numpy as np\n",
    "import nashpy as nash\n",
    "\n",
    "payoff_matrix_a = np.array([[1, -1], [-1, 1]])\n",
    "payoff_matrix_b = np.array([[-1, 1], [1,-1]])\n",
    "\n",
    "game = nash.Game(payoff_matrix_a, payoff_matrix_b)\n",
    "\n",
    "equilibria = list(game.support_enumeration())\n",
    "\n",
    "for eq in equilibria:\n",
    "    print(\"Nash Equilibrium:\")\n",
    "    print(f\"Player 1's mixed strategy: {eq[0]}\")\n",
    "    print(f\"Player 2's mixed strategy: {eq[1]}\")\n",
    "\n",
    "    payoff_a = np.dot(eq[0], np.dot(payoff_matrix_a, eq[1]))\n",
    "    payoff_b = np.dot(eq[0], np.dot(payoff_matrix_b, eq[1]))\n",
    "\n",
    "    print(f\"Payoff for Player 1: {payoff_a}\")\n",
    "    print(f\"Payoff for Player 2: {payoff_b}\")\n"
   ]
  },
  {
   "cell_type": "code",
   "execution_count": 3,
   "metadata": {},
   "outputs": [
    {
     "name": "stdout",
     "output_type": "stream",
     "text": [
      "No Nash Equilibrium\n"
     ]
    }
   ],
   "source": [
    "import numpy as np\n",
    "\n",
    "pMatA = np.array([[1, -1], [-1, 1]])\n",
    "\n",
    "pMatB = np.array([[-1, 1], [1,-1]])\n",
    "\n",
    "num_strategies = len(pMatA)\n",
    "\n",
    "nash_equilibria = []\n",
    "\n",
    "outcome = [\"Head\", \"Tail\"]\n",
    "\n",
    "for strategy_a in range(num_strategies):\n",
    "    for strategy_b in range(num_strategies):\n",
    "        expected_payoff_a = sum(pMatA[strategy_a] * np.array(\n",
    "            [1 if i == strategy_b else 0 for i in range(num_strategies)]))\n",
    "        expected_payoff_b = sum(pMatB[strategy_b] * np.array(\n",
    "            [1 if i == strategy_a else 0 for i in range(num_strategies)]))\n",
    "\n",
    "        if expected_payoff_a >= max(pMatA[:, strategy_b]) and expected_payoff_b >= max(pMatB[:, strategy_a]):\n",
    "            nash_equilibria.append(\n",
    "                ((strategy_a, strategy_b), (expected_payoff_a, expected_payoff_b)))\n",
    "\n",
    "if len(nash_equilibria) == 0:\n",
    "    print(\"No Nash Equilibrium\")\n",
    "else:\n",
    "    print(\"Nash Equilibria:\")\n",
    "    for eq, payoffs in nash_equilibria:\n",
    "        print(f\"Player A's strategy: {outcome[eq[0]]}\")\n",
    "        print(f\"Player B's strategy: {outcome[eq[1]]}\")\n",
    "        print(f\"Payoff for Player A: {payoffs[0]}\")\n",
    "        print(f\"Payoff for Player B: {payoffs[1]}\")\n"
   ]
  },
  {
   "cell_type": "code",
   "execution_count": 17,
   "metadata": {},
   "outputs": [
    {
     "name": "stdout",
     "output_type": "stream",
     "text": [
      "Nash Equilibria:\n",
      "Player 1 Strategy: 0.50,0.50\n",
      "Player 1 Payoff: 0.00\n",
      "Nash Equilibria:\n",
      "Player 2 Strategy: 0.50, 0.50\n",
      "Player 2 Payoff: 0.00\n"
     ]
    }
   ],
   "source": [
    "import numpy as np\n",
    "\n",
    "A = np.array([[1, -1], [-1, 1]])\n",
    "B=np.array([[-1, 1], [1,-1]])\n",
    "\n",
    "n_eq1 = []\n",
    "n_eq2 = []\n",
    "\n",
    "for headStrategy in np.arange(0, 1.01, 0.01):\n",
    "    tailStrategy = 1 - headStrategy\n",
    "    headPayoff = np.dot(A[0], [headStrategy, tailStrategy])\n",
    "    tailPayoff = np.dot(A[1], [headStrategy, tailStrategy])\n",
    "    if headPayoff == tailPayoff:\n",
    "        n_eq1.append((headStrategy, tailStrategy))\n",
    "        \n",
    "for headStrategy in np.arange(0, 1.01, 0.01):\n",
    "    tailStrategy = 1 - headStrategy\n",
    "    headPayoff = np.dot(B[0], [headStrategy, tailStrategy])\n",
    "    tailPayoff = np.dot(B[1], [headStrategy, tailStrategy])\n",
    "    if headPayoff == tailPayoff:\n",
    "        n_eq2.append((headStrategy, tailStrategy))\n",
    "\n",
    "print(\"Nash Equilibria:\")\n",
    "for equilibrium in n_eq1:\n",
    "    headStrategy, tailStrategy = equilibrium\n",
    "    headPayoff = np.dot(A[0], [headStrategy, tailStrategy])\n",
    "    tailPayoff = np.dot(A[1], [headStrategy, tailStrategy])\n",
    "    print(f\"Player 1 Strategy: {headStrategy:.2f},{tailStrategy:.2f}\")\n",
    "    print(f\"Player 1 Payoff: {headPayoff:.2f}\")\n",
    "    \n",
    "print(\"Nash Equilibria:\")\n",
    "for equilibrium in n_eq2:\n",
    "    headStrategy, tailStrategy = equilibrium\n",
    "    headPayoff = np.dot(B[0], [headStrategy, tailStrategy])\n",
    "    tailPayoff = np.dot(B[1], [headStrategy, tailStrategy])\n",
    "    print(f\"Player 2 Strategy: {headStrategy:.2f}, {tailStrategy:.2f}\")\n",
    "    print(f\"Player 2 Payoff: {headPayoff:.2f}\")"
   ]
  },
  {
   "cell_type": "code",
   "execution_count": 18,
   "metadata": {},
   "outputs": [
    {
     "name": "stdout",
     "output_type": "stream",
     "text": [
      "(0.5, 0.5)\n"
     ]
    }
   ],
   "source": [
    "import numpy as np\n",
    "\n",
    "def solve(M=None):\n",
    "        a = (M[0, 0][1] - M[1, 0][1] - M[0, 1][1] + M[1, 1][1])\n",
    "        b = (M[1, 1][1] -M[1, 0][1])\n",
    "\n",
    "        c = (M[0, 0][0] - M[0, 1][0] - M[1, 0][0] + M[1, 1][0])\n",
    "        d = (-M[0, 1][0] + M[1, 1][0])\n",
    "\n",
    "        p = b / a if a != 0 else None\n",
    "        q = d / c if c != 0 else None\n",
    "\n",
    "        return (p,q)\n",
    "\n",
    "m=[[(1,-1),(-1,1)],[(-1,1),(1,-1)]]\n",
    "M = np.array(m)\n",
    "s = solve(M)\n",
    "print(s)"
   ]
  }
 ],
 "metadata": {
  "kernelspec": {
   "display_name": "Python 3",
   "language": "python",
   "name": "python3"
  },
  "language_info": {
   "codemirror_mode": {
    "name": "ipython",
    "version": 3
   },
   "file_extension": ".py",
   "mimetype": "text/x-python",
   "name": "python",
   "nbconvert_exporter": "python",
   "pygments_lexer": "ipython3",
   "version": "3.11.4"
  },
  "orig_nbformat": 4
 },
 "nbformat": 4,
 "nbformat_minor": 2
}
