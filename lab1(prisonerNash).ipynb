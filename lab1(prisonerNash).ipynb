{
 "cells": [
  {
   "cell_type": "code",
   "execution_count": null,
   "metadata": {},
   "outputs": [],
   "source": [
    "pip install nashpy"
   ]
  },
  {
   "cell_type": "code",
   "execution_count": 5,
   "metadata": {},
   "outputs": [
    {
     "name": "stdout",
     "output_type": "stream",
     "text": [
      "Nash Equilibria:\n",
      "Player 1 strategy: [1. 0.], Player 2 strategy: [1. 0.]\n",
      "Player 1 payoff: -3.0, Player 2 payoff: -3.0\n",
      "\n"
     ]
    }
   ],
   "source": [
    "import nashpy as nash\n",
    "\n",
    "A = [[-3, 0], [-4, -1]]\n",
    "B = [[-3, -4], [0, -1]]\n",
    "\n",
    "game = nash.Game(A, B)\n",
    "\n",
    "nash_equilibria = game.support_enumeration()\n",
    "\n",
    "print(\"Nash Equilibria:\")\n",
    "for eq in nash_equilibria:\n",
    "    p1 = eq[0]\n",
    "    p2 = eq[1]\n",
    "    \n",
    "    p1Payoff = game[eq][0]\n",
    "    p2Payoff = game[eq][1]\n",
    "    \n",
    "    print(f\"Player 1 strategy: {p1}, Player 2 strategy: {p2}\")\n",
    "    print(f\"Player 1 payoff: {p1Payoff}, Player 2 payoff: {p2Payoff}\\n\")"
   ]
  }
 ],
 "metadata": {
  "kernelspec": {
   "display_name": "Python 3",
   "language": "python",
   "name": "python3"
  },
  "language_info": {
   "codemirror_mode": {
    "name": "ipython",
    "version": 3
   },
   "file_extension": ".py",
   "mimetype": "text/x-python",
   "name": "python",
   "nbconvert_exporter": "python",
   "pygments_lexer": "ipython3",
   "version": "3.11.4"
  },
  "orig_nbformat": 4
 },
 "nbformat": 4,
 "nbformat_minor": 2
}
