{
 "cells": [
  {
   "cell_type": "code",
   "execution_count": 27,
   "metadata": {},
   "outputs": [
    {
     "name": "stdout",
     "output_type": "stream",
     "text": [
      "Nash Equilibria:\n",
      "Boy strategy: [1. 0.], Girl strategy: [1. 0.]\n",
      "Boy payoff: 10.0, Girl payoff: 5.0\n",
      "\n",
      "Boy strategy: [0. 1.], Girl strategy: [0. 1.]\n",
      "Boy payoff: 5.0, Girl payoff: 10.0\n",
      "\n"
     ]
    }
   ],
   "source": [
    "import numpy as np\n",
    "\n",
    "boy_payoff = [[10,0], [0,5]]\n",
    "girl_payoff = [[5,0], [0,10]]\n",
    "\n",
    "game = nash.Game(boy_payoff, girl_payoff)\n",
    "\n",
    "nash_equilibria = game.support_enumeration()\n",
    "\n",
    "pure_st = []\n",
    "\n",
    "for eq in nash_equilibria:\n",
    "    boy_strategy = eq[0]\n",
    "    girl_strategy = eq[1]\n",
    "    \n",
    "    if np.all(boy_strategy == np.round(boy_strategy)) and np.all(girl_strategy == np.round(girl_strategy)):\n",
    "        pure_st.append(eq)\n",
    "\n",
    "print(\"Nash Equilibria:\")\n",
    "for eq in pure_st:\n",
    "    p1 = eq[0]\n",
    "    p2 = eq[1]\n",
    "    \n",
    "    p1Payoff = game[eq][0]\n",
    "    p2Payoff = game[eq][1]\n",
    "    \n",
    "    print(f\"Boy strategy: {p1}, Girl strategy: {p2}\")\n",
    "    print(f\"Boy payoff: {p1Payoff}, Girl payoff: {p2Payoff}\\n\")"
   ]
  },
  {
   "cell_type": "code",
   "execution_count": 34,
   "metadata": {},
   "outputs": [
    {
     "name": "stdout",
     "output_type": "stream",
     "text": [
      "\n",
      "Nash Equilibrium:\n",
      "boy's strategy: 0\n",
      "girl's strategy: 0\n",
      "boy's payoff: 10\n",
      "girl's payoff: 5\n",
      "\n",
      "Nash Equilibrium:\n",
      "boy's strategy: 1\n",
      "girl's strategy: 1\n",
      "boy's payoff: 5\n",
      "girl's payoff: 10\n"
     ]
    }
   ],
   "source": [
    "import numpy as np\n",
    "\n",
    "boy_payoffs = np.array([[10, 0], [0, 5]])\n",
    "girl_payoffs = np.array([[5, 0], [0, 10]])\n",
    "nash_equilibria = []\n",
    "\n",
    "for boy_strategy in range(2):\n",
    "    for girl_strategy in range(2):\n",
    "        \n",
    "        boy_payoff = boy_payoffs[boy_strategy, girl_strategy]\n",
    "        girl_payoff = girl_payoffs[boy_strategy, girl_strategy]\n",
    "        \n",
    "        if boy_payoffs[1 - boy_strategy, girl_strategy] <= boy_payoff and girl_payoffs[boy_strategy, 1 - girl_strategy] <= girl_payoff:\n",
    "            nash_equilibria.append(((boy_strategy, girl_strategy), (boy_payoff, girl_payoff)))\n",
    "\n",
    "for eq in nash_equilibria:\n",
    "    boy_strategy, girl_strategy = eq[0]\n",
    "    boy_payoff, girl_payoff = eq[1]\n",
    "    \n",
    "    print(\"\\nNash Equilibrium:\")\n",
    "    print(\"boy's strategy:\", boy_strategy)\n",
    "    print(\"girl's strategy:\", girl_strategy)\n",
    "    print(\"boy's payoff:\", boy_payoff)\n",
    "    print(\"girl's payoff:\", girl_payoff)"
   ]
  }
 ],
 "metadata": {
  "kernelspec": {
   "display_name": "Python 3",
   "language": "python",
   "name": "python3"
  },
  "language_info": {
   "codemirror_mode": {
    "name": "ipython",
    "version": 3
   },
   "file_extension": ".py",
   "mimetype": "text/x-python",
   "name": "python",
   "nbconvert_exporter": "python",
   "pygments_lexer": "ipython3",
   "version": "3.11.4"
  },
  "orig_nbformat": 4
 },
 "nbformat": 4,
 "nbformat_minor": 2
}
